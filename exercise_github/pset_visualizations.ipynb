{
 "cells": [
  {
   "cell_type": "markdown",
   "metadata": {},
   "source": [
    "# EXERISES DATA CLEANING AND VISUALIZATION:\n",
    "\n",
    "\n",
    "## EXERCISE 1 : BOOKS\n",
    "\n",
    "Open the dataset books_pset.csv.\n",
    "\n",
    "The dataset is (intentionally) a mess, as you will soon see. Clean the columns using pandas and present the following:\n",
    "\n",
    "- Eliminate duplicates. \n",
    "- What is the average year of publicaiton in the dataset?\n",
    "- Show a plot (histogram) with the frecuencies of the place of publication\n",
    "- How many missing \"Edition Statements\" do you have?\n",
    "- What is the mean and median stars received by the books? \n",
    "\n",
    "\n",
    "## EXERCISE 2 : MERGING\n",
    "\n",
    "Add the rows of df2 to df1. Then, merge the resulting df to df3. \n",
    "\n",
    "Store the df into a csv file.\n",
    "\n",
    "Load the csv. It should have the same number of columns as the original one.\n",
    "\n",
    "\n",
    "\n",
    "\n",
    "\n"
   ]
  },
  {
   "cell_type": "code",
   "execution_count": null,
   "metadata": {},
   "outputs": [],
   "source": [
    "import pandas as pd\n",
    "df1 = pd.DataFrame({\n",
    "        'student_id': ['S1', 'S2', 'S3', 'S4', 'S5'],\n",
    "         'name': ['Danniella Fenton', 'Ryder Storey', 'Bryce Jensen', 'Ed Bernal', 'Kwame Morin'], \n",
    "        'marks': [200, 210, 190, 222, 199]})\n",
    "\n",
    "df2 = pd.DataFrame({\n",
    "        'student_id': ['S6', 'S7', 'S8', 'S9', 'S10'],\n",
    "        'name': ['Scarlette Fisher', 'Carla Williamson', 'Dante Morse', 'Kaiser William', 'Madeeha Preston'], \n",
    "        'marks': [201, 200, 198, 219, 201]})\n",
    "\n",
    "\n",
    "\n",
    "df3 = pd.DataFrame({\n",
    "        'student_id': ['S1', 'S4', 'S6', 'S7', 'S8'],\n",
    "        'city': ['London', 'Tokyo', 'Sydney', 'Los Angeles', 'New York']})\n",
    "\n"
   ]
  }
 ],
 "metadata": {
  "kernelspec": {
   "display_name": "Python 3.8.16 ('pyannote')",
   "language": "python",
   "name": "python3"
  },
  "language_info": {
   "name": "python",
   "version": "3.8.16"
  },
  "orig_nbformat": 4,
  "vscode": {
   "interpreter": {
    "hash": "8e5bc56a5e59828724b9606669ef2e877f786cc96978258679ba8b9f5956bc86"
   }
  }
 },
 "nbformat": 4,
 "nbformat_minor": 2
}
